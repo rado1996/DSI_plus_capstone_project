{
 "cells": [
  {
   "cell_type": "markdown",
   "metadata": {},
   "source": [
    "# Capstone Project\n",
    "## Modeling Electricity Usage Profiles\n",
    "### _Conrad Camit_\n",
    "\n",
    "_ \n",
    "\n",
    "## Executive Statement\n",
    "\n",
    "### Background\n",
    "\n",
    "Goal of clustering is to identify accounts that are similar and seek potentials for energy efficiency. \n",
    "Clustering accounts based on these profiles allows for the comparison and contrasting of those with similar energy usage tendencies. \n",
    "\n",
    "Traditional methods of utility providers tend to aggregating usage at much higher aggregation levels.  This method does not necessarliy accounts for customer accounts  may be similar to each other in energy usage tendencies on an aggregated level, but not in their hourly usage throughout the day because of environmental and behavioral differences.\n",
    "\n",
    "Additionally, the prediction of hourly residential electricity consumption is of great economical interest for electricity providers in the global electricity market, since an accurate prediction of the consumption ahead of time is needed to obtain the best prices on the day-ahead market and to avoid purchasing on the more expensive real-time market. \n",
    "\n",
    "\n",
    "\n",
    "### Problem Statements\n",
    "\n",
    "1. Clustering by electricity usage profile\n",
    "    -  Identify patterns in residential customer electricity hourly usage and group customers based on similar usage profiles tendencies.  \n",
    "    -  Identify customers that deviate in their hourly usage ove and above their peer accounts during peak demand hours where electricity prices are the highest (4pm-6pm on Summer days) \n",
    "    \n",
    "\n",
    "2. Predict residential electricity hourly usage\n",
    "    -  Current method to forecast a customer’s residential electricity usage is error-prone and could be more accurate.  \n",
    "    -  The goal is to predict individual residential electricity hourly usage day ahead better than the current benchmark method.\n",
    "    -  This will allow retail electricity providers from spending more on the real-day market for errors in day-ahead prediction for their customers.\n",
    "\n",
    "    \n",
    "## Data\n",
    "\n",
    "-  Retrieved from a data repository provided by Pecan Street, an organization focused providing access to data on consumer energy consumption behavior for research purposes.\n",
    "-  Hourly electricity usage for almost 1,000 residential customers across the United States from 2011 through 2017\n",
    "-  Demographic information including housing square footage, annual income, education level, and number of occupants.\n",
    "-  Access to hundreds of residential house/apartment electricity customers from Texas, Colorado, and California.\n",
    "    -  899 customers from Austin, Texas\n",
    "    -  58 customers from Boulder, Colorado\n",
    "    -  57 customers from San Diego, California\n",
    "\n",
    "Figure 1: Map of customers with electricity usage available from Pecan Street\n",
    "<img src=\"images/map.png\" alt=\"Alt text that describes the graphic\" title=\"Title text\" height=\"400\" width=\"600\" />\n",
    "\n",
    "### Data Storage\n",
    "\n",
    "Data was retrieved from the data repository and stored in a local Postgres database using Python and the psycopg2 library.  All data rows and columns from the following tables were cloned into a local Postgres database.\n",
    "\n",
    "1. metadata\n",
    "    -  This view draws data from multiple tables on the Dataport database to provide general information about each data ID in one location. The metadata view shows the useful information about the customers including housing square footage and housing typel, which makes it particularly useful to researchers looking to assemble a dataset containing all the necessary data to answer a research question.\n",
    "2. electricity_egauge_hours\n",
    "    -  This table stores all of the electricity data collected by Pecan Street’s eGauge devices. It is aggregated to hourly intervals, where the specified timestamp is the beginning of the interval for that row. All of the values in this table are average real power over the interval in kilowatts (kW). Timestamps indicate the starting time for the interval over which the data was measured.\n",
    "3. survey_(2011-2014)_all_participants\n",
    "    -  This table stores the results of the 2012 Pecan Street general participant survey. Questions on this survey asked about topics including demographics, electricity use, eductional level and income level of the residents.\n",
    "4. weather\n",
    "    -  This table contains weather data from Austin, Boulder, and San Diego, where the majority of Pecan Street’s participants are located.\n",
    "\n",
    "\n",
    "\n",
    "\n"
   ]
  },
  {
   "cell_type": "markdown",
   "metadata": {},
   "source": [
    "### Exploratory Data Analysis \n",
    "\n",
    "The Jupyter notebook code used for performing the exploratory data analysis can be found here:  \n",
    "-  <a href=\"capstone-EDA.ipynb\" >capstone-EDA.ipynb</a>\n",
    "\n",
    "#### Data Cleaning\n",
    "The following steps were taken to clean the data for analysis.  \n",
    "\n",
    "1. Dataid = this field in the database was used to identify each individual customer\n",
    "2. Hourly electricity usage data extraction\n",
    "    -  Extracted all rows per customer where a row was available for all hours in year 2015 (24 hours x 365 days = 8,760 rows).  373 customers had this required amount of electricity usage data\n",
    "    -  Calculated yearly usage (kWh) for 2015 for each customer by aggregating hourly usage (3,267,480 usage data points)\n",
    "3. Filled in gaps in hourly electricity usage:\n",
    "    -  Used linear interpolation to fill in usage gaps of zero where gap <= 4 hours since closest usage values most representative to missing usage\n",
    "    -  Flagged customer accounts with gaps > 4 hours for removal from dataset\n",
    "3. Retrieved the following data from the metadata table and stored it in a DataFrame:\n",
    "    -  house square footage\n",
    "    -  building type\n",
    "    -  city\n",
    "4. Retrieved the following data from the survey tables and stored it in a DataFrame:\n",
    "    -  number of adults in household\n",
    "    -  number of children in household\n",
    "    -  number of seniors in household\n",
    "    -  education level\n",
    "    -  income level\n",
    "5. Aggregated hourly electricity usage data for each customer:\n",
    "    -  Day of the week (usage by day of the week, Monday-Sunday)\n",
    "    -  Season (usage aggregated by season: winter, spring, summer, fall)\n",
    "    -  Came up with 672 data points per customer account, one data point for each hour per day of the week per season\n",
    "    \n",
    "\n",
    "\n",
    "\n",
    "#### Data Findings\n",
    "-  By viewing the hourly data for particular account, was able to discern that usage had a particular pattern daily, where usage would often be low during the nighttime hours and would increase during the day and peak in the early afternoon.  Dropped customer which abnormally high yearly usage that was above 2 SD above mean\n",
    "<img src=\"images/electricityusage26.png\" alt=\"Alt text that describes the graphic\" title=\"Title text\" height=\"400\" width=\"600\" />\n",
    "\n",
    "-  A histogram of the customers 2015 yearly usage showed that the distribution of usage was relatively normally distributed with a sligh positive skew.\n",
    "\n",
    "<img src=\"images/histogram_yearly_usage.png\" alt=\"Alt text that describes the graphic\" title=\"Title text\" height=\"400\" width=\"600\" />\n",
    "\n",
    "- As expected, there appeared to be a relationship between a customer's yearly usage and the square footage of the house/apartment.  There appeared to be a positive correlation between the two variables.\n",
    "\n",
    "<img src=\"images/square_footage_vs_yearly_usage.png\" alt=\"Alt text that describes the graphic\" title=\"Title text\" height=\"400\" width=\"600\" />\n"
   ]
  },
  {
   "cell_type": "markdown",
   "metadata": {},
   "source": [
    "## Problem 1: Clustering by electricity usage profile"
   ]
  },
  {
   "cell_type": "markdown",
   "metadata": {},
   "source": [
    "The Jupyter notebook code used for performing the clustering models can be found here:  \n",
    "-  <a href=\"capstone-clustering.ipynb\" >capstone-clustering.ipynb</a>\n",
    "\n",
    "\n",
    "### Modeling\n",
    "#### Model Selection\n",
    "\n",
    "-  In order to achieve the goal of clustering accounts and to merge energy profiles into clusters where profiles in a common cluster are more similar than those in other clusters, I wanted to use a standard partitioning method.\n",
    "\n",
    "-  Of the major clustering approaches, partitioning was chosen because partitioning methods are distance‐based.\n",
    "\n",
    "-  This is an ideal feature for our application because I am aiming to compare and contrast individual energy profiles, which can be accomplished with distinct distance measures providing a tangible dissimilarity measure.\n",
    "\n",
    "-  The clustering method k‐means was selected as a standard heuristic partitioning method. This was identified as the grouping of energy use profiles is based on the similarity to a mean profile. This is desired because mean profiles can be used in energy efficiency comparisons.\n",
    "\n",
    "-  Also considered using DBSCAN clustering but results showed identical results when compared to K-Means clustering."
   ]
  },
  {
   "cell_type": "markdown",
   "metadata": {},
   "source": [
    "#### Choosing the optimal number of clusters\n",
    "-  Applying the elbow method\n",
    "    -  Compute sum of squared error (SSE) for different values of clusters\n",
    "    -  SSE is defined as the sum of the squared distance between each member of the cluster and its centroid\n",
    "    -  If you plot k against the SSE, you will see that the error decreases as k gets larger\n",
    "    -  Ten clusters was determined to be a reasonable cutoff based on cluster analysis.\n",
    "    \n",
    "#### Normalization of data\n",
    "-  With the comparison of individual energy profiles as our goal, normalization of the data is necessary. \n",
    "-  Accounts may mirror each other in energy usage tendencies, but not in their kWh throughout the day because of differences in the underlying environment. \n",
    "-  Normalized usage data by dividing hourly usage by customer's total yearly usage.\n"
   ]
  },
  {
   "cell_type": "markdown",
   "metadata": {},
   "source": [
    "<img src=\"images/kmeans_analysis.png\" alt=\"Alt text that describes the graphic\" title=\"Title text\" height=\"400\" width=\"600\" />"
   ]
  },
  {
   "cell_type": "markdown",
   "metadata": {},
   "source": [
    "The overall mean of all the customer account usages by month and day of the week for the year 2015.  On average, usage peaks in the early afternoon daily and tends to be much higher in the summer months.  This is expected considering majority of the customers are in the Austin, Texas area, where warm summer temperatures translates to increased air conditioning usage in the summer months.  \n",
    "<img src=\"images/usage_by_season_and_day.png\" alt=\"Alt text that describes the graphic\" title=\"Title text\" height=\"400\" width=\"600\" />"
   ]
  },
  {
   "cell_type": "markdown",
   "metadata": {},
   "source": [
    "Primary focus for this problem statement will be on examining summer usage where peak demand prices are the highest.\n",
    "\n",
    "The cluster centers of the the ten clusters of 2015 summer hourly usage are graphed below.  \n",
    "<img src=\"images/10clusters-summer.png\" alt=\"Alt text that describes the graphic\" title=\"Title text\" height=\"400\" width=\"600\" />"
   ]
  },
  {
   "cell_type": "markdown",
   "metadata": {},
   "source": [
    "Below is the graph of average 2015 summer hourly usage for cluster=0.  28 customer accounts in this cluster tended to have 9am-5pm Monday-Friday jobs (lower usage during this time) away from home with use of air conditioning due to warmer temperature climate (all located in Austin, Texas) (much higher usage in Summer compared to other seasons).\n",
    "<img src=\"images/cluster0-summer.png\" alt=\"Alt text that describes the graphic\" title=\"Title text\" height=\"400\" width=\"600\" />"
   ]
  },
  {
   "cell_type": "markdown",
   "metadata": {},
   "source": [
    "Below is the graph of average 2015 summer hourly usage for cluster=6.  27 customer accounts in this cluster tended to more consistent usage between workdays and weekends.  Most households had children at home and houses were located in areas with more moderate climate in the summer (most were located in Boulder, Colorado).\n",
    "<img src=\"cluster6-summer.png\" alt=\"Alt text that describes the graphic\" title=\"Title text\" height=\"400\" width=\"600\" />"
   ]
  },
  {
   "cell_type": "markdown",
   "metadata": {},
   "source": [
    "Below is the graph of average 2015 summer hourly usage for cluster=7.  6 customer accounts had peak usage in the morning hours and appeared to be away during the daytime hours with low usage. Majority were two adult person households.\n",
    "<img src=\"images/cluster7-summer.png\" alt=\"Alt text that describes the graphic\" title=\"Title text\" height=\"400\" width=\"600\" />"
   ]
  },
  {
   "cell_type": "markdown",
   "metadata": {},
   "source": [
    "#### Targeting customers with more usage than peers at peak hours of 4pm-6pm daily.\n",
    "\n",
    "-  Resources with the lowest variable operating costs are always dispatched first, while more expensive generating units—like peaking power plants—are brought online when demand increases. \n",
    "-  Customers exceeding average summer peak usage for their profile are targeted\n",
    "-  Target these customers to reduce load by 50% during peak hours\n",
    "\n",
    "Below is the graph of the average 2015 summer hourly usage for cluster #2 plotted against each of the other accounts in the cluster in grey.  The overall peak demand for summer 2015 for all accounts was between 4pm-6pm.  It is during this time of peak demand that the price for generating power is the greatest.  Customers with usage over and above those accounts with the same profile will be targeted for energy efficiency programs.  \n",
    "<img src=\"images/cluster2-summer.png\" alt=\"Alt text that describes the graphic\" title=\"Title text\" height=\"400\" width=\"600\" />"
   ]
  },
  {
   "cell_type": "markdown",
   "metadata": {},
   "source": [
    "<img src=\"images/customers_over_summer_peak.png\" alt=\"Alt text that describes the graphic\" title=\"Title text\" height=\"400\" width=\"600\" />"
   ]
  },
  {
   "cell_type": "markdown",
   "metadata": {},
   "source": [
    "With successful reduction of 50% of usage at peak summer hours, with average real-time price of $39.59 during summer peaks:\n",
    "\n",
    "-  Total dollar recovery for 373 customers is $329.19\n",
    "\n",
    "<img src=\"images/dollar_recovery_from_usage_reduction.png\" alt=\"Alt text that describes the graphic\" title=\"Title text\" height=\"400\" width=\"600\" />"
   ]
  },
  {
   "cell_type": "markdown",
   "metadata": {},
   "source": [
    "## Problem 2: Forecasting day-ahead hourly electricity usage\n",
    "\n",
    "Current method to forecast a customer’s residential electricity usage is error-prone and could be more accurate.  The goal is to predict individual residential electricity hourly usage day ahead better than the current benchmark method.\n",
    "Real-time prices are consequently much more volatile than day-ahead prices due to their unpredictable nature. \n",
    "\n",
    "\n",
    "### Modeling\n",
    "#### Model Selection\n",
    "Two models were chosen to compare to the current benchmark method of calculating day-ahead forecast for residential electricity usage.  The goal is to determine a model through data science that provide a substantial improvement in the prediction of day-ahead hourly electricity usage. \n",
    "\n",
    "##### ARIMA model\n",
    "\n",
    "The Jupyter notebook code used for performing the ARIMA forecasting method can be found here: <a href=\"capstone-ISO.ipynb\">capstone-ARIMA.ipynb</a>\n",
    "\n",
    "- ARIMA model was chosen as the model to forecast day-ahead hourly electricity usage.  \n",
    "- A Time Series (TS) model predicts future values based on previous observations and the commonly used Auto-Regressive Integrated Moving Average (ARIMA) is defined in terms of three parameters: d, the number of times a time series needs to be differenced to make it stationary; p, the auto-regressive order, that denotes the number of past observations included in the model; and q, the moving average order that denotes the number of past white noise error terms included in the model. The advantages of ARIMA include the fact that it does not require domain knowledge, nor does it depend on other features. \n",
    "\n",
    "##### Timeseries Forecasting with LSTM \n",
    "\n",
    "The Jupyter notebook code used for performing the LSTM forecasting method can be found here: <a href=\"capstone-ISO.ipynb\">capstone-LSTM.ipynb</a>\n",
    "\n",
    "- Modeling timeseries and forecasting with neural networks is a growing trend. The Long Short Term Memory (LSTM) recurrent neural network architecture is a popular choice when \"context\" or memory across time is a desired capability of the model.\n",
    "- Use \"statfeul model to allow the model to \"remember\" all of the previous timesteps. Instead of resetting their internal state after each training batch, the internal state of the neurons is maintained. \n",
    "\n",
    "##### Baseline forecasting method\n",
    "\n",
    "The Jupyter notebook code used for performing the baseline forecasting method can be found here: <a href=\"capstone-ISO.ipynb\">capstone-ISO.ipynb</a>\n",
    "\n",
    "- Current method that electricity providers use to forecast electricity usage from their customers, usually at an agreggated level.  \n",
    "- Taking hourly averages across three most recent days with highest average consumption value out of a pool of ten previous days\n"
   ]
  },
  {
   "cell_type": "markdown",
   "metadata": {},
   "source": [
    "### Model Forecasting Results\n",
    "\n",
    "#### Baseline Forecast Prediction"
   ]
  },
  {
   "cell_type": "markdown",
   "metadata": {},
   "source": [
    "The below graph shows the baseline prediction for the month of April 2015 using previous actual hourly data\n",
    "\n",
    "<img src=\"images/baseline_forecast_prediction.png\" alt=\"Alt text that describes the graphic\" title=\"Title text\" height=\"400\" width=\"600\" />\n",
    "\n",
    "The baseline April 1, 2015 prediction does a reasonably good job of predicting day-ahead usage. But misses the peak load almost half.\n",
    "<img src=\"images/baseline_april1_prediction.png\" alt=\"Alt text that describes the graphic\" title=\"Title text\" height=\"400\" width=\"600\" />\n",
    "\n",
    "<img src=\"images/mean_squared_error_baseline.png\" alt=\"Alt text that describes the graphic\" title=\"Title text\" height=\"400\" width=\"600\" />\n",
    "#### Baseline Model: Average mean squared error: 0.718466826596"
   ]
  },
  {
   "cell_type": "markdown",
   "metadata": {},
   "source": [
    "#### ARIMA Forecast Prediction\n",
    "\n",
    "The below graph shows the ARIMA prediction for the month of April 2015 using previous actual hourly data\n",
    "\n",
    "<img src=\"images/arima_forecast_prediction.png\" alt=\"Alt text that describes the graphic\" title=\"Title text\" height=\"400\" width=\"600\" />\n",
    "\n",
    "<img src=\"images/arima_april1_prediction.png\" alt=\"Alt text that describes the graphic\" title=\"Title text\" height=\"400\" width=\"600\" />\n",
    "\n",
    "<img src=\"images/mean_squared_error_arima.png\" alt=\"Alt text that describes the graphic\" title=\"Title text\" height=\"400\" width=\"600\" />\n",
    "#### ARIMA Model: Average mean squared error: 0.492931579608"
   ]
  },
  {
   "cell_type": "markdown",
   "metadata": {},
   "source": [
    "- 31.2% reduction in forecasting prediction error using ARIMA model over baseline\n",
    "<img src=\"images/mean_squared_error.png\" alt=\"Alt text that describes the graphic\" title=\"Title text\" height=\"400\" width=\"600\" />"
   ]
  },
  {
   "cell_type": "markdown",
   "metadata": {},
   "source": [
    "### Findings\n",
    "\n",
    "#### Problem 1: Clustering by electricity usage profile"
   ]
  },
  {
   "cell_type": "markdown",
   "metadata": {},
   "source": [
    "1. Data science techniques such as K-means and DBSCAN clustering can allow for the grouping of presidential customer's hourly usage into usage profiles based on similar hourly and seasonal usage trends can result in the ability to target customer accounts for energy efficiency programs.\n",
    "2. Customers with usage over and above those accounts with the same usage profile during peak hours where targeted for energy efficiency programs.\n",
    "3. With successful reduction of 50% of usage at peak summer hours, with average real-time price of $39.59 during summer peaks.\n",
    "\n",
    "4. Total dollar recovery targeting all 373 customers is $329.19"
   ]
  },
  {
   "cell_type": "markdown",
   "metadata": {},
   "source": [
    "#### Problem 2: Forecasting day-ahead hourly electricity usage"
   ]
  },
  {
   "cell_type": "markdown",
   "metadata": {},
   "source": [
    "1. 31.2% reduction in forecasting prediction error using ARIMA model over baseline\n",
    "2. Real-time prices are consequently much more volatile than day-ahead prices due to their unpredictable nature so accurately day-ahead predictions are valuable in avoiding unnecessary price volatility \n",
    "\n",
    "## Future directions\n",
    "1. Future directions involve investigating future models to furthur improve forecasting projections.\n",
    "2. Increasing the number of accounts available for investigation to furthur cluster accounts having more detailed difference.  \n",
    "3. Use demographic/behavioral information of household to predict future residential usage for new customers.\n"
   ]
  },
  {
   "cell_type": "code",
   "execution_count": null,
   "metadata": {
    "collapsed": true
   },
   "outputs": [],
   "source": []
  },
  {
   "cell_type": "code",
   "execution_count": null,
   "metadata": {
    "collapsed": true
   },
   "outputs": [],
   "source": []
  }
 ],
 "metadata": {
  "kernelspec": {
   "display_name": "Python 3",
   "language": "python",
   "name": "python3"
  },
  "language_info": {
   "codemirror_mode": {
    "name": "ipython",
    "version": 3
   },
   "file_extension": ".py",
   "mimetype": "text/x-python",
   "name": "python",
   "nbconvert_exporter": "python",
   "pygments_lexer": "ipython3",
   "version": "3.6.1"
  }
 },
 "nbformat": 4,
 "nbformat_minor": 2
}
