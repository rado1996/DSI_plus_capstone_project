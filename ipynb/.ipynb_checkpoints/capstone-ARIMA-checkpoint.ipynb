{
 "cells": [
  {
   "cell_type": "code",
   "execution_count": 4,
   "metadata": {
    "collapsed": true
   },
   "outputs": [],
   "source": [
    "from pandas import read_csv\n",
    "from pandas import datetime\n",
    "from matplotlib import pyplot\n",
    "from statsmodels.tsa.arima_model import ARIMA\n",
    "from sklearn.metrics import mean_squared_error\n",
    " \n",
    "def parser(x):\n",
    "    return datetime.strptime('190'+x, '%Y-%m')\n",
    " "
   ]
  },
  {
   "cell_type": "code",
   "execution_count": 5,
   "metadata": {
    "collapsed": true
   },
   "outputs": [],
   "source": [
    "series_new = read_csv('../data/clean_df.csv', header=0, parse_dates=[2], index_col=0, squeeze=True)"
   ]
  },
  {
   "cell_type": "code",
   "execution_count": 6,
   "metadata": {
    "scrolled": false
   },
   "outputs": [
    {
     "name": "stderr",
     "output_type": "stream",
     "text": [
      "/opt/conda/lib/python3.6/site-packages/ipykernel_launcher.py:7: UserWarning: Boolean Series key will be reindexed to match DataFrame index.\n",
      "  import sys\n"
     ]
    },
    {
     "name": "stdout",
     "output_type": "stream",
     "text": [
      "Ave error: 1.30518138717, dataid: 26, Test MSE: 1.305\n",
      "Ave error: 0.92358177618, dataid: 77, Test MSE: 0.542\n",
      "Ave error: 0.96926148596, dataid: 86, Test MSE: 1.061\n",
      "Ave error: 0.77550455885, dataid: 93, Test MSE: 0.194\n",
      "Ave error: 0.627553769229, dataid: 101, Test MSE: 0.036\n",
      "Ave error: 0.638500572807, dataid: 114, Test MSE: 0.693\n",
      "Ave error: 0.554595296483, dataid: 115, Test MSE: 0.051\n",
      "Ave error: 0.488960299283, dataid: 160, Test MSE: 0.030\n",
      "Ave error: 0.44102957668, dataid: 171, Test MSE: 0.058\n",
      "Ave error: 0.399137050313, dataid: 203, Test MSE: 0.022\n",
      "Ave error: 0.504914972279, dataid: 222, Test MSE: 1.563\n",
      "Ave error: 0.469352522894, dataid: 232, Test MSE: 0.078\n",
      "Ave error: 0.488752480406, dataid: 252, Test MSE: 0.722\n",
      "Ave error: 0.577594125095, dataid: 434, Test MSE: 1.733\n",
      "t=7.000000\r"
     ]
    },
    {
     "name": "stderr",
     "output_type": "stream",
     "text": [
      "/opt/conda/lib/python3.6/site-packages/statsmodels/base/model.py:496: ConvergenceWarning: Maximum Likelihood optimization failed to converge. Check mle_retvals\n",
      "  \"Check mle_retvals\", ConvergenceWarning)\n"
     ]
    },
    {
     "name": "stdout",
     "output_type": "stream",
     "text": [
      "Ave error: 0.544075553348, dataid: 484, Test MSE: 0.075\n",
      "Ave error: 0.5271579951, dataid: 503, Test MSE: 0.273\n",
      "Ave error: 0.501836318465, dataid: 516, Test MSE: 0.097\n",
      "Ave error: 0.494305766468, dataid: 545, Test MSE: 0.366\n",
      "Ave error: 0.725693992662, dataid: 547, Test MSE: 4.891\n",
      "Ave error: 0.700305946349, dataid: 580, Test MSE: 0.218\n",
      "Ave error: 0.668578814811, dataid: 585, Test MSE: 0.034\n",
      "Ave error: 0.639323506953, dataid: 624, Test MSE: 0.025\n",
      "Ave error: 0.63719320661, dataid: 661, Test MSE: 0.590\n",
      "Ave error: 0.615747456327, dataid: 668, Test MSE: 0.122\n",
      "Ave error: 0.592426938987, dataid: 739, Test MSE: 0.033\n",
      "Ave error: 0.583041130034, dataid: 744, Test MSE: 0.348\n",
      "Ave error: 0.57273664978, dataid: 781, Test MSE: 0.305\n",
      "Ave error: 0.554486827908, dataid: 821, Test MSE: 0.062\n",
      "Ave error: 0.544697745163, dataid: 871, Test MSE: 0.271\n",
      "Ave error: 0.532665608404, dataid: 890, Test MSE: 0.184\n",
      "Ave error: 0.523513684089, dataid: 946, Test MSE: 0.249\n",
      "Ave error: 0.520638128054, dataid: 974, Test MSE: 0.431\n",
      "Ave error: 0.516797668332, dataid: 1086, Test MSE: 0.394\n",
      "Ave error: 0.507014265094, dataid: 1103, Test MSE: 0.184\n",
      "Ave error: 0.493455181315, dataid: 1169, Test MSE: 0.032\n",
      "Ave error: 0.481563805067, dataid: 1192, Test MSE: 0.065\n",
      "Ave error: 0.484021759896, dataid: 1202, Test MSE: 0.573\n",
      "Ave error: 0.472948486161, dataid: 1283, Test MSE: 0.063\n",
      "Ave error: 0.464091399338, dataid: 1310, Test MSE: 0.128\n",
      "Ave error: 0.466194412774, dataid: 1314, Test MSE: 0.548\n",
      "Ave error: 0.46463022538, dataid: 1350, Test MSE: 0.402\n",
      "Ave error: 0.455471587004, dataid: 1403, Test MSE: 0.080\n",
      "Ave error: 0.446751705847, dataid: 1415, Test MSE: 0.081\n",
      "Ave error: 0.444047910262, dataid: 1450, Test MSE: 0.328\n",
      "Ave error: 0.437595704748, dataid: 1463, Test MSE: 0.154\n",
      "Ave error: 0.432077697226, dataid: 1500, Test MSE: 0.184\n",
      "Ave error: 0.480997683776, dataid: 1507, Test MSE: 2.731\n",
      "Ave error: 0.471283974398, dataid: 1524, Test MSE: 0.015\n",
      "Ave error: 0.496651005542, dataid: 1589, Test MSE: 1.714\n",
      "Ave error: 0.489195734158, dataid: 1617, Test MSE: 0.124\n",
      "Ave error: 0.48816793344, dataid: 1629, Test MSE: 0.437\n",
      "Ave error: 0.47997915064, dataid: 1681, Test MSE: 0.062\n",
      "Ave error: 0.488509897528, dataid: 1696, Test MSE: 0.932\n",
      "Ave error: 0.498547742555, dataid: 1700, Test MSE: 1.031\n",
      "Ave error: 0.489772531091, dataid: 1731, Test MSE: 0.016\n",
      "Ave error: 0.482581176807, dataid: 1766, Test MSE: 0.087\n",
      "Ave error: 0.478469765276, dataid: 1790, Test MSE: 0.248\n",
      "Ave error: 0.471458588058, dataid: 1791, Test MSE: 0.072\n",
      "Ave error: 0.464863670052, dataid: 1792, Test MSE: 0.082\n",
      "Ave error: 0.46637148053, dataid: 1800, Test MSE: 0.555\n",
      "Ave error: 0.45900487843, dataid: 1830, Test MSE: 0.017\n",
      "Ave error: 0.453539841637, dataid: 1879, Test MSE: 0.120\n",
      "Ave error: 0.454789455573, dataid: 1947, Test MSE: 0.532\n",
      "Ave error: 0.45205477397, dataid: 1953, Test MSE: 0.280\n",
      "Ave error: 0.458294697359, dataid: 2018, Test MSE: 0.858\n",
      "Ave error: 0.45721444892, dataid: 2034, Test MSE: 0.387\n",
      "Ave error: 0.452491212655, dataid: 2072, Test MSE: 0.141\n",
      "Ave error: 0.456504485931, dataid: 2094, Test MSE: 0.725\n",
      "Ave error: 0.453411840646, dataid: 2129, Test MSE: 0.243\n",
      "Ave error: 0.458249530043, dataid: 2156, Test MSE: 0.792\n",
      "Ave error: 0.467605712427, dataid: 2158, Test MSE: 1.123\n",
      "Ave error: 0.461702122156, dataid: 2199, Test MSE: 0.043\n",
      "Ave error: 0.461700117424, dataid: 2233, Test MSE: 0.462\n",
      "t=0.000000\r"
     ]
    },
    {
     "name": "stderr",
     "output_type": "stream",
     "text": [
      "/opt/conda/lib/python3.6/site-packages/statsmodels/base/model.py:496: ConvergenceWarning: Maximum Likelihood optimization failed to converge. Check mle_retvals\n",
      "  \"Check mle_retvals\", ConvergenceWarning)\n"
     ]
    },
    {
     "name": "stdout",
     "output_type": "stream",
     "text": [
      "Ave error: 0.476498683005, dataid: 2242, Test MSE: 1.557\n",
      "Ave error: 0.472256192979, dataid: 2337, Test MSE: 0.158\n",
      "Ave error: 0.467805813994, dataid: 2361, Test MSE: 0.134\n",
      "Ave error: 0.462574556601, dataid: 2365, Test MSE: 0.065\n",
      "t=13.000000\r"
     ]
    },
    {
     "name": "stderr",
     "output_type": "stream",
     "text": [
      "/opt/conda/lib/python3.6/site-packages/statsmodels/base/model.py:496: ConvergenceWarning: Maximum Likelihood optimization failed to converge. Check mle_retvals\n",
      "  \"Check mle_retvals\", ConvergenceWarning)\n"
     ]
    },
    {
     "name": "stdout",
     "output_type": "stream",
     "text": [
      "Ave error: 0.464112128134, dataid: 2378, Test MSE: 0.583\n",
      "Ave error: 0.478958747689, dataid: 2449, Test MSE: 1.637\n",
      "Ave error: 0.477845951917, dataid: 2470, Test MSE: 0.390\n",
      "Ave error: 0.483335152771, dataid: 2472, Test MSE: 0.922\n",
      "Ave error: 0.487807712404, dataid: 2532, Test MSE: 0.850\n",
      "Ave error: 0.482623637778, dataid: 2557, Test MSE: 0.058\n",
      "Ave error: 0.479374738899, dataid: 2575, Test MSE: 0.210\n",
      "Ave error: 0.476109733174, dataid: 2606, Test MSE: 0.202\n",
      "Ave error: 0.483672340597, dataid: 2638, Test MSE: 1.126\n",
      "Ave error: 0.479446994416, dataid: 2641, Test MSE: 0.116\n",
      "Ave error: 0.480954924276, dataid: 2710, Test MSE: 0.612\n",
      "Ave error: 0.47843150239, dataid: 2742, Test MSE: 0.256\n",
      "t=11.000000\r"
     ]
    },
    {
     "name": "stderr",
     "output_type": "stream",
     "text": [
      "/opt/conda/lib/python3.6/site-packages/statsmodels/base/model.py:496: ConvergenceWarning: Maximum Likelihood optimization failed to converge. Check mle_retvals\n",
      "  \"Check mle_retvals\", ConvergenceWarning)\n"
     ]
    },
    {
     "name": "stdout",
     "output_type": "stream",
     "text": [
      "Ave error: 0.475796241787, dataid: 2755, Test MSE: 0.241\n",
      "Ave error: 0.476787037311, dataid: 2769, Test MSE: 0.566\n",
      "Ave error: 0.473966058204, dataid: 2787, Test MSE: 0.217\n",
      "Ave error: 0.472031436236, dataid: 2814, Test MSE: 0.294\n",
      "Ave error: 0.468640770401, dataid: 2818, Test MSE: 0.153\n",
      "Ave error: 0.464998000448, dataid: 2829, Test MSE: 0.123\n",
      "Ave error: 0.460200914757, dataid: 2859, Test MSE: 0.004\n",
      "t=16.000000\r"
     ]
    },
    {
     "name": "stderr",
     "output_type": "stream",
     "text": [
      "/opt/conda/lib/python3.6/site-packages/statsmodels/base/model.py:496: ConvergenceWarning: Maximum Likelihood optimization failed to converge. Check mle_retvals\n",
      "  \"Check mle_retvals\", ConvergenceWarning)\n"
     ]
    },
    {
     "name": "stdout",
     "output_type": "stream",
     "text": [
      "Ave error: 0.464950681808, dataid: 2925, Test MSE: 0.921\n",
      "Ave error: 0.462995529951, dataid: 2931, Test MSE: 0.273\n",
      "Ave error: 0.45833363386, dataid: 2945, Test MSE: 0.001\n",
      "Ave error: 0.456670576444, dataid: 2953, Test MSE: 0.292\n",
      "Ave error: 0.454469650164, dataid: 2980, Test MSE: 0.234\n",
      "Ave error: 0.450066130867, dataid: 2986, Test MSE: 0.005\n",
      "Ave error: 0.446662761166, dataid: 3009, Test MSE: 0.100\n",
      "Ave error: 0.450144443086, dataid: 3036, Test MSE: 0.809\n",
      "Ave error: 0.458963091755, dataid: 3039, Test MSE: 1.376\n",
      "Ave error: 0.454819355123, dataid: 3104, Test MSE: 0.020\n",
      "Ave error: 0.4512653645, dataid: 3134, Test MSE: 0.075\n",
      "Ave error: 0.447445984592, dataid: 3192, Test MSE: 0.039\n",
      "Ave error: 0.453351375402, dataid: 3221, Test MSE: 1.091\n",
      "Ave error: 0.449283333809, dataid: 3268, Test MSE: 0.006\n",
      "Ave error: 0.446884685643, dataid: 3273, Test MSE: 0.183\n",
      "Ave error: 0.447814734008, dataid: 3310, Test MSE: 0.551\n",
      "Ave error: 0.455361783132, dataid: 3367, Test MSE: 1.301\n",
      "Ave error: 0.455546573804, dataid: 3368, Test MSE: 0.476\n",
      "Ave error: 0.452160626158, dataid: 3392, Test MSE: 0.066\n",
      "Ave error: 0.455110983095, dataid: 3394, Test MSE: 0.794\n",
      "Ave error: 0.453676932093, dataid: 3413, Test MSE: 0.287\n",
      "Ave error: 0.449928292467, dataid: 3456, Test MSE: 0.011\n",
      "Ave error: 0.450549553322, dataid: 3482, Test MSE: 0.524\n",
      "Ave error: 0.453374511161, dataid: 3500, Test MSE: 0.790\n",
      "Ave error: 0.453156689953, dataid: 3527, Test MSE: 0.427\n",
      "Ave error: 0.449594020124, dataid: 3538, Test MSE: 0.019\n",
      "Ave error: 0.446617167666, dataid: 3577, Test MSE: 0.083\n",
      "Ave error: 0.444295293133, dataid: 3635, Test MSE: 0.159\n",
      "Ave error: 0.442453915961, dataid: 3649, Test MSE: 0.214\n",
      "Ave error: 0.440007609356, dataid: 3719, Test MSE: 0.134\n",
      "Ave error: 0.441014327042, dataid: 3723, Test MSE: 0.568\n",
      "Ave error: 0.439438992342, dataid: 3778, Test MSE: 0.239\n",
      "Ave error: 0.475789822351, dataid: 3795, Test MSE: 5.129\n",
      "Ave error: 0.473569291029, dataid: 3829, Test MSE: 0.187\n",
      "Ave error: 0.470553854984, dataid: 3831, Test MSE: 0.079\n",
      "Ave error: 0.467585267566, dataid: 3849, Test MSE: 0.079\n",
      "Ave error: 0.466446899219, dataid: 3893, Test MSE: 0.316\n",
      "Ave error: 0.483228190867, dataid: 3916, Test MSE: 2.715\n",
      "Ave error: 0.481082324523, dataid: 3918, Test MSE: 0.194\n",
      "Ave error: 0.477649653607, dataid: 3935, Test MSE: 0.014\n",
      "Ave error: 0.474239361277, dataid: 3938, Test MSE: 0.010\n",
      "Ave error: 0.479885984094, dataid: 3967, Test MSE: 1.253\n",
      "Ave error: 0.478310099248, dataid: 4031, Test MSE: 0.261\n",
      "Ave error: 0.478063609709, dataid: 4147, Test MSE: 0.444\n",
      "Ave error: 0.479481692235, dataid: 4154, Test MSE: 0.678\n",
      "Ave error: 0.47656868249, dataid: 4193, Test MSE: 0.066\n",
      "Ave error: 0.474945041475, dataid: 4213, Test MSE: 0.244\n",
      "Ave error: 0.472343740552, dataid: 4297, Test MSE: 0.100\n",
      "Ave error: 0.470520942638, dataid: 4298, Test MSE: 0.208\n",
      "Ave error: 0.47696726507, dataid: 4313, Test MSE: 1.412\n",
      "Ave error: 0.496786921287, dataid: 4336, Test MSE: 3.390\n",
      "Ave error: 0.497116399528, dataid: 4342, Test MSE: 0.546\n",
      "Ave error: 0.501637786324, dataid: 4352, Test MSE: 1.171\n",
      "Ave error: 0.498533929451, dataid: 4357, Test MSE: 0.036\n",
      "Ave error: 0.519224000916, dataid: 4373, Test MSE: 3.623\n",
      "Ave error: 0.516892956687, dataid: 4473, Test MSE: 0.165\n",
      "Ave error: 0.513570163608, dataid: 4495, Test MSE: 0.009\n",
      "Ave error: 0.512460073548, dataid: 4499, Test MSE: 0.343\n",
      "Ave error: 0.510529209844, dataid: 4514, Test MSE: 0.213\n",
      "Ave error: 0.512647049848, dataid: 4526, Test MSE: 0.841\n",
      "Ave error: 0.510729151935, dataid: 4575, Test MSE: 0.212\n",
      "Ave error: 0.508265515823, dataid: 4601, Test MSE: 0.121\n",
      "Ave error: 0.515572566896, dataid: 4641, Test MSE: 1.670\n",
      "Ave error: 0.512355474345, dataid: 4670, Test MSE: 0.001\n",
      "Ave error: 0.509237198712, dataid: 4703, Test MSE: 0.010\n",
      "Ave error: 0.50802382856, dataid: 4767, Test MSE: 0.313\n",
      "t=5.000000\r"
     ]
    },
    {
     "name": "stderr",
     "output_type": "stream",
     "text": [
      "/opt/conda/lib/python3.6/site-packages/statsmodels/base/model.py:496: ConvergenceWarning: Maximum Likelihood optimization failed to converge. Check mle_retvals\n",
      "  \"Check mle_retvals\", ConvergenceWarning)\n"
     ]
    },
    {
     "name": "stdout",
     "output_type": "stream",
     "text": [
      "Ave error: 0.505492314032, dataid: 4773, Test MSE: 0.095\n",
      "Ave error: 0.502599673045, dataid: 4874, Test MSE: 0.031\n",
      "Ave error: 0.502553408792, dataid: 4920, Test MSE: 0.495\n",
      "Ave error: 0.499594342016, dataid: 4934, Test MSE: 0.011\n",
      "Ave error: 0.503692794378, dataid: 4946, Test MSE: 1.184\n",
      "Ave error: 0.503107914787, dataid: 4957, Test MSE: 0.405\n",
      "Ave error: 0.501935925607, dataid: 4974, Test MSE: 0.305\n",
      "Ave error: 0.50584727268, dataid: 4998, Test MSE: 1.167\n",
      "Ave error: 0.509176973367, dataid: 5026, Test MSE: 1.075\n",
      "Ave error: 0.50871683918, dataid: 5035, Test MSE: 0.430\n",
      "Ave error: 0.506982611904, dataid: 5060, Test MSE: 0.209\n",
      "Ave error: 0.505031503488, dataid: 5129, Test MSE: 0.167\n",
      "Ave error: 0.504982851301, dataid: 5187, Test MSE: 0.497\n",
      "Ave error: 0.502337581518, dataid: 5218, Test MSE: 0.039\n",
      "Ave error: 0.505913018111, dataid: 5246, Test MSE: 1.135\n",
      "Ave error: 0.504920262851, dataid: 5262, Test MSE: 0.329\n",
      "Ave error: 0.502296080401, dataid: 5275, Test MSE: 0.035\n",
      "Ave error: 0.502914232426, dataid: 5288, Test MSE: 0.614\n",
      "Ave error: 0.500713633785, dataid: 5317, Test MSE: 0.105\n",
      "Ave error: 0.501674213255, dataid: 5371, Test MSE: 0.676\n",
      "Ave error: 0.503638101657, dataid: 5395, Test MSE: 0.861\n",
      "Ave error: 0.500994061227, dataid: 5400, Test MSE: 0.017\n",
      "Ave error: 0.502095411303, dataid: 5403, Test MSE: 0.705\n",
      "Ave error: 0.500285362052, dataid: 5439, Test MSE: 0.165\n",
      "Ave error: 0.498964793951, dataid: 5448, Test MSE: 0.253\n",
      "Ave error: 0.499301902928, dataid: 5485, Test MSE: 0.562\n",
      "Ave error: 0.497730131891, dataid: 5545, Test MSE: 0.202\n",
      "t=20.000000\r"
     ]
    },
    {
     "name": "stderr",
     "output_type": "stream",
     "text": [
      "/opt/conda/lib/python3.6/site-packages/statsmodels/base/model.py:496: ConvergenceWarning: Maximum Likelihood optimization failed to converge. Check mle_retvals\n",
      "  \"Check mle_retvals\", ConvergenceWarning)\n"
     ]
    },
    {
     "name": "stdout",
     "output_type": "stream",
     "text": [
      "Ave error: 0.496039235735, dataid: 5568, Test MSE: 0.176\n",
      "Ave error: 0.502875729226, dataid: 5673, Test MSE: 1.802\n",
      "Ave error: 0.500509301902, dataid: 5677, Test MSE: 0.049\n",
      "Ave error: 0.501642637343, dataid: 5738, Test MSE: 0.719\n",
      "Ave error: 0.499133770989, dataid: 5785, Test MSE: 0.015\n",
      "Ave error: 0.498728285621, dataid: 5796, Test MSE: 0.420\n",
      "Ave error: 0.504381374493, dataid: 5809, Test MSE: 1.607\n",
      "Ave error: 0.5030804581, dataid: 5810, Test MSE: 0.248\n",
      "Ave error: 0.501908815323, dataid: 5814, Test MSE: 0.271\n",
      "Ave error: 0.509087922156, dataid: 5852, Test MSE: 1.931\n",
      "Ave error: 0.507383121529, dataid: 5889, Test MSE: 0.168\n",
      "Ave error: 0.50775968941, dataid: 5892, Test MSE: 0.583\n",
      "Ave error: 0.50572907195, dataid: 5904, Test MSE: 0.098\n",
      "Ave error: 0.503902737399, dataid: 5921, Test MSE: 0.135\n",
      "Ave error: 0.501460224947, dataid: 5938, Test MSE: 0.006\n",
      "Ave error: 0.501568702298, dataid: 5959, Test MSE: 0.524\n",
      "Ave error: 0.499849729105, dataid: 5972, Test MSE: 0.147\n",
      "Ave error: 0.501055431165, dataid: 6061, Test MSE: 0.749\n",
      "Ave error: 0.499255669724, dataid: 6063, Test MSE: 0.127\n",
      "Ave error: 0.496977889184, dataid: 6101, Test MSE: 0.023\n",
      "Ave error: 0.509575075843, dataid: 6121, Test MSE: 3.142\n",
      "Ave error: 0.513787773496, dataid: 6139, Test MSE: 1.398\n",
      "Ave error: 0.511425865992, dataid: 6165, Test MSE: 0.013\n",
      "Ave error: 0.509072546446, dataid: 6264, Test MSE: 0.010\n",
      "Ave error: 0.507597768533, dataid: 6266, Test MSE: 0.193\n",
      "Ave error: 0.50605429021, dataid: 6348, Test MSE: 0.176\n",
      "Ave error: 0.505818172474, dataid: 6412, Test MSE: 0.455\n",
      "Ave error: 0.50419959418, dataid: 6423, Test MSE: 0.155\n",
      "Ave error: 0.505118619722, dataid: 6460, Test MSE: 0.705\n",
      "Ave error: 0.503541352568, dataid: 6498, Test MSE: 0.160\n",
      "Ave error: 0.502243355882, dataid: 6578, Test MSE: 0.218\n",
      "Ave error: 0.500232528237, dataid: 6593, Test MSE: 0.058\n",
      "Ave error: 0.499093324482, dataid: 6643, Test MSE: 0.247\n",
      "Ave error: 0.515505279955, dataid: 6691, Test MSE: 4.159\n",
      "Ave error: 0.513770067965, dataid: 6692, Test MSE: 0.127\n",
      "Ave error: 0.513515456366, dataid: 6730, Test MSE: 0.456\n",
      "Ave error: 0.515135965587, dataid: 6799, Test MSE: 0.880\n",
      "Ave error: 0.515100485975, dataid: 6836, Test MSE: 0.507\n",
      "Ave error: 0.51320246711, dataid: 6887, Test MSE: 0.082\n",
      "Ave error: 0.511845348318, dataid: 6888, Test MSE: 0.202\n",
      "Ave error: 0.515150634794, dataid: 6910, Test MSE: 1.272\n",
      "Ave error: 0.517065126123, dataid: 6941, Test MSE: 0.957\n",
      "Ave error: 0.515416008121, dataid: 6990, Test MSE: 0.134\n",
      "Ave error: 0.513392918569, dataid: 7001, Test MSE: 0.044\n",
      "Ave error: 0.515999565715, dataid: 7016, Test MSE: 1.123\n",
      "Ave error: 0.513869647618, dataid: 7114, Test MSE: 0.015\n",
      "Ave error: 0.513732385515, dataid: 7117, Test MSE: 0.481\n",
      "Ave error: 0.513570416439, dataid: 7166, Test MSE: 0.475\n",
      "Ave error: 0.511740011319, dataid: 7361, Test MSE: 0.078\n",
      "Ave error: 0.509708247699, dataid: 7390, Test MSE: 0.026\n",
      "Ave error: 0.508192520826, dataid: 7429, Test MSE: 0.146\n",
      "Ave error: 0.506894346605, dataid: 7504, Test MSE: 0.195\n",
      "Ave error: 0.50843844793, dataid: 7510, Test MSE: 0.881\n",
      "Ave error: 0.508960765478, dataid: 7531, Test MSE: 0.635\n",
      "Ave error: 0.507878363969, dataid: 7536, Test MSE: 0.245\n",
      "t=21.000000\r"
     ]
    },
    {
     "name": "stderr",
     "output_type": "stream",
     "text": [
      "/opt/conda/lib/python3.6/site-packages/statsmodels/base/model.py:496: ConvergenceWarning: Maximum Likelihood optimization failed to converge. Check mle_retvals\n",
      "  \"Check mle_retvals\", ConvergenceWarning)\n"
     ]
    },
    {
     "name": "stdout",
     "output_type": "stream",
     "text": [
      "Ave error: 0.505952040831, dataid: 7549, Test MSE: 0.036\n",
      "Ave error: 0.508356018376, dataid: 7560, Test MSE: 1.097\n",
      "Ave error: 0.508090625739, dataid: 7617, Test MSE: 0.443\n",
      "Ave error: 0.508304291473, dataid: 7627, Test MSE: 0.561\n",
      "Ave error: 0.508406884427, dataid: 7641, Test MSE: 0.534\n",
      "Ave error: 0.50670433584, dataid: 7719, Test MSE: 0.083\n",
      "Ave error: 0.5047236137, dataid: 7739, Test MSE: 0.010\n",
      "Ave error: 0.504613563785, dataid: 7741, Test MSE: 0.477\n",
      "Ave error: 0.502693907039, dataid: 7767, Test MSE: 0.019\n",
      "Ave error: 0.500738029672, dataid: 7769, Test MSE: 0.006\n",
      "Ave error: 0.499695575081, dataid: 7787, Test MSE: 0.235\n",
      "Ave error: 0.500008797489, dataid: 7788, Test MSE: 0.580\n",
      "Ave error: 0.498082235533, dataid: 7793, Test MSE: 0.005\n",
      "Ave error: 0.496918359517, dataid: 7794, Test MSE: 0.198\n",
      "Ave error: 0.495001190639, dataid: 7800, Test MSE: 0.000\n",
      "Ave error: 0.495286928505, dataid: 7850, Test MSE: 0.569\n",
      "Ave error: 0.497476908811, dataid: 7863, Test MSE: 1.067\n",
      "Ave error: 0.499016507566, dataid: 7866, Test MSE: 0.901\n",
      "Ave error: 0.497269103952, dataid: 7875, Test MSE: 0.039\n",
      "Ave error: 0.495975997284, dataid: 7900, Test MSE: 0.156\n",
      "Ave error: 0.495334849428, dataid: 7901, Test MSE: 0.326\n",
      "Ave error: 0.496074052344, dataid: 7940, Test MSE: 0.692\n",
      "Ave error: 0.496750764983, dataid: 7951, Test MSE: 0.677\n",
      "Ave error: 0.495636959418, dataid: 7989, Test MSE: 0.198\n",
      "t=5.000000\r"
     ]
    },
    {
     "name": "stderr",
     "output_type": "stream",
     "text": [
      "/opt/conda/lib/python3.6/site-packages/statsmodels/base/model.py:496: ConvergenceWarning: Maximum Likelihood optimization failed to converge. Check mle_retvals\n",
      "  \"Check mle_retvals\", ConvergenceWarning)\n"
     ]
    },
    {
     "name": "stdout",
     "output_type": "stream",
     "text": [
      "Ave error: 0.49732858578, dataid: 8046, Test MSE: 0.951\n",
      "Ave error: 0.495973732541, dataid: 8061, Test MSE: 0.132\n",
      "Ave error: 0.497731606175, dataid: 8079, Test MSE: 0.972\n",
      "Ave error: 0.496067627687, dataid: 8084, Test MSE: 0.045\n",
      "Ave error: 0.494387158322, dataid: 8086, Test MSE: 0.037\n",
      "Ave error: 0.500786168129, dataid: 8156, Test MSE: 2.248\n",
      "Ave error: 0.499572030354, dataid: 8163, Test MSE: 0.167\n",
      "Ave error: 0.499315394169, dataid: 8188, Test MSE: 0.429\n",
      "Ave error: 0.500857315173, dataid: 8197, Test MSE: 0.926\n",
      "Ave error: 0.501117990865, dataid: 8201, Test MSE: 0.573\n",
      "Ave error: 0.500657858248, dataid: 8218, Test MSE: 0.373\n",
      "Ave error: 0.506716652536, dataid: 8236, Test MSE: 2.197\n",
      "Ave error: 0.505053655741, dataid: 8243, Test MSE: 0.039\n",
      "Ave error: 0.504767204439, dataid: 8273, Test MSE: 0.424\n",
      "Ave error: 0.504348813612, dataid: 8282, Test MSE: 0.386\n",
      "Ave error: 0.503442937327, dataid: 8292, Test MSE: 0.247\n",
      "Ave error: 0.501702179602, dataid: 8317, Test MSE: 0.007\n",
      "Ave error: 0.499977156917, dataid: 8342, Test MSE: 0.008\n",
      "Ave error: 0.498524365095, dataid: 8368, Test MSE: 0.083\n",
      "Ave error: 0.497719307422, dataid: 8386, Test MSE: 0.267\n",
      "Ave error: 0.49606535856, dataid: 8395, Test MSE: 0.020\n",
      "Ave error: 0.494646941009, dataid: 8419, Test MSE: 0.085\n",
      "Ave error: 0.493598692197, dataid: 8555, Test MSE: 0.190\n",
      "Ave error: 0.49292375428, dataid: 8565, Test MSE: 0.297\n",
      "Ave error: 0.494358083529, dataid: 8622, Test MSE: 0.913\n",
      "Ave error: 0.494004987082, dataid: 8626, Test MSE: 0.391\n",
      "Ave error: 0.493623307633, dataid: 8645, Test MSE: 0.381\n",
      "Ave error: 0.492896159734, dataid: 8741, Test MSE: 0.278\n",
      "Ave error: 0.492869531088, dataid: 8767, Test MSE: 0.485\n",
      "Ave error: 0.491862250486, dataid: 8807, Test MSE: 0.193\n",
      "Ave error: 0.491257132788, dataid: 8829, Test MSE: 0.311\n",
      "Ave error: 0.489622626372, dataid: 8862, Test MSE: 0.001\n",
      "Ave error: 0.488218792924, dataid: 8890, Test MSE: 0.067\n",
      "Ave error: 0.486635866817, dataid: 8956, Test MSE: 0.010\n",
      "Ave error: 0.486262066409, dataid: 8995, Test MSE: 0.373\n",
      "Ave error: 0.485142882734, dataid: 9052, Test MSE: 0.146\n",
      "Ave error: 0.483948808783, dataid: 9085, Test MSE: 0.121\n",
      "Ave error: 0.483751645068, dataid: 9121, Test MSE: 0.424\n",
      "Ave error: 0.482909474594, dataid: 9134, Test MSE: 0.225\n",
      "Ave error: 0.481505383254, dataid: 9141, Test MSE: 0.050\n",
      "Ave error: 0.480240416035, dataid: 9142, Test MSE: 0.091\n",
      "Ave error: 0.47872684869, dataid: 9156, Test MSE: 0.011\n",
      "Ave error: 0.477274689118, dataid: 9160, Test MSE: 0.027\n",
      "Ave error: 0.478350146447, dataid: 9248, Test MSE: 0.813\n",
      "Ave error: 0.478079756408, dataid: 9278, Test MSE: 0.394\n",
      "Ave error: 0.476581857559, dataid: 9343, Test MSE: 0.008\n",
      "Ave error: 0.476489617602, dataid: 9462, Test MSE: 0.448\n",
      "Ave error: 0.48368201952, dataid: 9484, Test MSE: 2.749\n",
      "Ave error: 0.487611534927, dataid: 9548, Test MSE: 1.729\n",
      "Ave error: 0.488003038876, dataid: 9555, Test MSE: 0.612\n",
      "Ave error: 0.487778410205, dataid: 9605, Test MSE: 0.416\n",
      "Ave error: 0.487154316427, dataid: 9609, Test MSE: 0.288\n",
      "t=19.000000\r"
     ]
    },
    {
     "name": "stderr",
     "output_type": "stream",
     "text": [
      "/opt/conda/lib/python3.6/site-packages/statsmodels/base/model.py:496: ConvergenceWarning: Maximum Likelihood optimization failed to converge. Check mle_retvals\n",
      "  \"Check mle_retvals\", ConvergenceWarning)\n"
     ]
    },
    {
     "name": "stdout",
     "output_type": "stream",
     "text": [
      "Ave error: 0.485743933145, dataid: 9654, Test MSE: 0.034\n",
      "Ave error: 0.484293435183, dataid: 9701, Test MSE: 0.019\n",
      "Ave error: 0.484428339813, dataid: 9729, Test MSE: 0.528\n",
      "Ave error: 0.48599108895, dataid: 9737, Test MSE: 0.991\n",
      "Ave error: 0.485933414232, dataid: 9766, Test MSE: 0.467\n",
      "Ave error: 0.4875656919, dataid: 9771, Test MSE: 1.018\n",
      "Ave error: 0.486154606134, dataid: 9775, Test MSE: 0.026\n",
      "Ave error: 0.489014795582, dataid: 9776, Test MSE: 1.424\n",
      "Ave error: 0.48795987521, dataid: 9818, Test MSE: 0.142\n",
      "Ave error: 0.488614498341, dataid: 9875, Test MSE: 0.704\n",
      "Ave error: 0.487334173704, dataid: 9912, Test MSE: 0.065\n",
      "Ave error: 0.48610225535, dataid: 9915, Test MSE: 0.078\n",
      "Ave error: 0.486391529918, dataid: 9921, Test MSE: 0.582\n",
      "Ave error: 0.486507554031, dataid: 9922, Test MSE: 0.525\n",
      "Ave error: 0.485187292975, dataid: 9932, Test MSE: 0.044\n",
      "Ave error: 0.494867357583, dataid: 9933, Test MSE: 3.738\n",
      "Ave error: 0.496009548559, dataid: 9935, Test MSE: 0.880\n",
      "Ave error: 0.495219051065, dataid: 9938, Test MSE: 0.229\n",
      "Ave error: 0.495948460973, dataid: 9942, Test MSE: 0.742\n",
      "Ave error: 0.49454548519, dataid: 9958, Test MSE: 0.019\n",
      "Ave error: 0.494011120107, dataid: 9971, Test MSE: 0.312\n",
      "Ave error: 0.493855644534, dataid: 9982, Test MSE: 0.441\n",
      "Ave error: 0.492931579608, dataid: 9983, Test MSE: 0.177\n"
     ]
    }
   ],
   "source": [
    "errors = []\n",
    "count = 0\n",
    "for dataid in series_new['dataid'].unique():\n",
    "\n",
    "    df = series_new.sort_values(['dataid','localhour'])[(series_new['dataid']==dataid) \n",
    "                                                        & (series_new['localhour'] < '2015-04-02')\n",
    "                                                        & (series_new['localhour'] >= '2015-03-12')]['usage']\n",
    "\n",
    "    X = df.values\n",
    "    size = int(len(X) * 0.95)\n",
    "    train, test = X[0:size], X[size:len(X)]\n",
    "    history = [x for x in train]\n",
    "    predictions = list()\n",
    "    for t in range(len(test)):\n",
    "        model = ARIMA(history, order=(3,1,0))\n",
    "        model_fit = model.fit(disp=0)\n",
    "        output = model_fit.forecast()\n",
    "        yhat = output[0]\n",
    "        predictions.append(yhat)\n",
    "        obs = test[t]\n",
    "        history.append(obs)\n",
    "        print('t=%f' % t, end=\"\\r\")\n",
    "    error = mean_squared_error(test, predictions)\n",
    "    count += 1\n",
    "    errors.append(error)\n",
    "    print('Ave error: ' + str(sum(errors)/len(errors)) + ', dataid: ' + str(dataid) + ', Test MSE: %.3f' % error)\n",
    "\n"
   ]
  },
  {
   "cell_type": "code",
   "execution_count": 7,
   "metadata": {},
   "outputs": [
    {
     "data": {
      "image/png": "[encoded data removed]",
      "text/plain": [
       "<matplotlib.figure.Figure at 0x7fbd8d1e7f98>"
      ]
     },
     "metadata": {},
     "output_type": "display_data"
    },
    {
     "name": "stdout",
     "output_type": "stream",
     "text": [
      "Average mean squared error: 0.492931579608\n"
     ]
    }
   ],
   "source": [
    "import numpy as np\n",
    "pyplot.hist(np.log(errors), bins=20)\n",
    "pyplot.xlabel(\"log(mean squared error)\")\n",
    "pyplot.title(\"Distribution of mean squared error for ARIMA Model\")\n",
    "pyplot.show()\n",
    "print('Average mean squared error: ' + str(sum(errors)/len(errors)))"
   ]
  },
  {
   "cell_type": "code",
   "execution_count": 9,
   "metadata": {},
   "outputs": [
    {
     "data": {
      "image/png": "[encoded data removed]",
      "text/plain": [
       "<matplotlib.figure.Figure at 0x7fbd8ba71860>"
      ]
     },
     "metadata": {},
     "output_type": "display_data"
    }
   ],
   "source": [
    "pyplot.figure(figsize=(15,8))\n",
    "pyplot.plot(test[:24], label='Actuals')\n",
    "pyplot.plot(predictions[1:25], color='red', label='Prediction')\n",
    "pyplot.xlabel(\"Hour of the Month\")\n",
    "pyplot.ylabel(\"Electricity Usage (kWh)\")\n",
    "pyplot.title(\"ARIMA Model Usage Prediction\")\n",
    "pyplot.legend()\n",
    "pyplot.show()"
   ]
  },
  {
   "cell_type": "code",
   "execution_count": null,
   "metadata": {},
   "outputs": [],
   "source": []
  },
  {
   "cell_type": "code",
   "execution_count": 1,
   "metadata": {
    "collapsed": true
   },
   "outputs": [],
   "source": [
    "perc_list2 = [0.0,\n",
    " 0.050000000000000003,\n",
    " 0.10000000000000001,\n",
    " 0.14999999999999999,\n",
    " 0.20000000000000001,\n",
    " 0.25,\n",
    " 0.29999999999999999,\n",
    " 0.34999999999999998,\n",
    " 0.40000000000000002,\n",
    " 0.45000000000000001,\n",
    " 0.5,\n",
    " 0.55000000000000004,\n",
    " 0.59999999999999998,\n",
    " 0.65000000000000002,\n",
    " 0.69999999999999996,\n",
    " 0.75,\n",
    " 0.80000000000000004,\n",
    " 0.84999999999999998,\n",
    " 0.90000000000000002,\n",
    " 0.94999999999999996]"
   ]
  },
  {
   "cell_type": "code",
   "execution_count": 2,
   "metadata": {
    "collapsed": true
   },
   "outputs": [],
   "source": [
    "perc_errors2 = [0.0,\n",
    " 0.061224489795918366,\n",
    " 0.15743440233236153,\n",
    " 0.20699708454810495,\n",
    " 0.2857142857142857,\n",
    " 0.34110787172011664,\n",
    " 0.4110787172011662,\n",
    " 0.4752186588921283,\n",
    " 0.5131195335276968,\n",
    " 0.5481049562682215,\n",
    " 0.597667638483965,\n",
    " 0.6209912536443148,\n",
    " 0.6588921282798834,\n",
    " 0.6822157434402333,\n",
    " 0.7113702623906706,\n",
    " 0.7317784256559767,\n",
    " 0.749271137026239,\n",
    " 0.7638483965014577,\n",
    " 0.7725947521865889,\n",
    " 0.793002915451895]"
   ]
  },
  {
   "cell_type": "code",
   "execution_count": 13,
   "metadata": {},
   "outputs": [
    {
     "data": {
      "image/png": "[encoded data removed]",
      "text/plain": [
       "<matplotlib.figure.Figure at 0x7fbd8a3e3438>"
      ]
     },
     "metadata": {},
     "output_type": "display_data"
    }
   ],
   "source": [
    "perc_errors = []\n",
    "perc_list = []\n",
    "for perc in np.arange(0,20,1):\n",
    "    perc= perc/20.0\n",
    "    num = sum([1 if row < perc else 0 for row in errors])\n",
    "    perc_errors.append(num/len(errors))\n",
    "    perc_list.append(perc)\n",
    "pyplot.plot(perc_list, perc_errors, color=\"brown\", label=\"ARIMA Model\")\n",
    "pyplot.plot(perc_list2, perc_errors2, color=\"orange\", label=\"Baseline Model\")\n",
    "pyplot.xlabel(\"MSE\")\n",
    "pyplot.ylabel(\"Fraction of customers\")\n",
    "pyplot.title(\"Mean Square Error for Predictions\")\n",
    "pyplot.legend()\n",
    "pyplot.show()"
   ]
  },
  {
   "cell_type": "code",
   "execution_count": null,
   "metadata": {
    "collapsed": true
   },
   "outputs": [],
   "source": []
  }
 ],
 "metadata": {
  "kernelspec": {
   "display_name": "Python 3",
   "language": "python",
   "name": "python3"
  },
  "language_info": {
   "codemirror_mode": {
    "name": "ipython",
    "version": 3
   },
   "file_extension": ".py",
   "mimetype": "text/x-python",
   "name": "python",
   "nbconvert_exporter": "python",
   "pygments_lexer": "ipython3",
   "version": "3.6.1"
  }
 },
 "nbformat": 4,
 "nbformat_minor": 2
}
